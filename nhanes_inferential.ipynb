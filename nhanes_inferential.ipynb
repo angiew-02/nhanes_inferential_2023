{
  "nbformat": 4,
  "nbformat_minor": 0,
  "metadata": {
    "colab": {
      "provenance": [],
      "authorship_tag": "ABX9TyNpUnxV2wBrWprj7tdF1PNS",
      "include_colab_link": true
    },
    "kernelspec": {
      "name": "python3",
      "display_name": "Python 3"
    },
    "language_info": {
      "name": "python"
    }
  },
  "cells": [
    {
      "cell_type": "markdown",
      "metadata": {
        "id": "view-in-github",
        "colab_type": "text"
      },
      "source": [
        "<a href=\"https://colab.research.google.com/github/angiew-02/nhanes_inferential_2023/blob/main/nhanes_inferential.ipynb\" target=\"_parent\"><img src=\"https://colab.research.google.com/assets/colab-badge.svg\" alt=\"Open In Colab\"/></a>"
      ]
    },
    {
      "cell_type": "code",
      "execution_count": 17,
      "metadata": {
        "id": "vkwAxEWMj3y9"
      },
      "outputs": [],
      "source": [
        "import pandas as pd\n",
        "from scipy.stats import chi2_contingency\n",
        "import numpy as np"
      ]
    },
    {
      "cell_type": "markdown",
      "source": [
        "Import Data"
      ],
      "metadata": {
        "id": "8_gkCylamYpE"
      }
    },
    {
      "cell_type": "code",
      "source": [
        "demo = pd.read_sas('https://wwwn.cdc.gov/Nchs/Nhanes/2021-2022/DEMO_L.XPT', format='xport')\n",
        "bp = pd.read_sas('https://wwwn.cdc.gov/Nchs/Nhanes/2021-2022/BPXO_L.XPT', format='xport')\n",
        "body = pd.read_sas('https://wwwn.cdc.gov/Nchs/Nhanes/2021-2022/BMX_L.XPT', format='xport')\n",
        "chol_total = pd.read_sas('https://wwwn.cdc.gov/Nchs/Nhanes/2021-2022/TCHOL_L.XPT', format='xport')\n",
        "glycohemo = pd.read_sas('https://wwwn.cdc.gov/Nchs/Nhanes/2021-2022/GHB_L.XPT', format='xport')\n",
        "crp = pd.read_sas('https://wwwn.cdc.gov/Nchs/Nhanes/2021-2022/HSCRP_L.XPT', format='xport')\n",
        "dm = pd.read_sas('https://wwwn.cdc.gov/Nchs/Nhanes/2021-2022/DIQ_L.XPT', format='xport')\n",
        "phy = pd.read_sas('https://wwwn.cdc.gov/Nchs/Nhanes/2021-2022/PAQ_L.XPT', format='xport')\n",
        "whd = pd.read_sas('https://wwwn.cdc.gov/Nchs/Nhanes/2021-2022/WHQ_L.XPT', format='xport')"
      ],
      "metadata": {
        "id": "1_nPCwGjlxxl"
      },
      "execution_count": 18,
      "outputs": []
    },
    {
      "cell_type": "code",
      "source": [
        "demographics = pd.read_sas('https://wwwn.cdc.gov/Nchs/Nhanes/2021-2022/DEMO_L.XPT', format='xport')\n",
        "demographics.DMDMARTZ"
      ],
      "metadata": {
        "colab": {
          "base_uri": "https://localhost:8080/",
          "height": 458
        },
        "id": "PY-MAIUBl3EX",
        "outputId": "ae710bd1-e737-4320-b180-0209e4dde4a4"
      },
      "execution_count": 19,
      "outputs": [
        {
          "output_type": "execute_result",
          "data": {
            "text/plain": [
              "0        1.0\n",
              "1        1.0\n",
              "2        1.0\n",
              "3        NaN\n",
              "4        NaN\n",
              "        ... \n",
              "11928    NaN\n",
              "11929    3.0\n",
              "11930    1.0\n",
              "11931    2.0\n",
              "11932    1.0\n",
              "Name: DMDMARTZ, Length: 11933, dtype: float64"
            ],
            "text/html": [
              "<div>\n",
              "<style scoped>\n",
              "    .dataframe tbody tr th:only-of-type {\n",
              "        vertical-align: middle;\n",
              "    }\n",
              "\n",
              "    .dataframe tbody tr th {\n",
              "        vertical-align: top;\n",
              "    }\n",
              "\n",
              "    .dataframe thead th {\n",
              "        text-align: right;\n",
              "    }\n",
              "</style>\n",
              "<table border=\"1\" class=\"dataframe\">\n",
              "  <thead>\n",
              "    <tr style=\"text-align: right;\">\n",
              "      <th></th>\n",
              "      <th>DMDMARTZ</th>\n",
              "    </tr>\n",
              "  </thead>\n",
              "  <tbody>\n",
              "    <tr>\n",
              "      <th>0</th>\n",
              "      <td>1.0</td>\n",
              "    </tr>\n",
              "    <tr>\n",
              "      <th>1</th>\n",
              "      <td>1.0</td>\n",
              "    </tr>\n",
              "    <tr>\n",
              "      <th>2</th>\n",
              "      <td>1.0</td>\n",
              "    </tr>\n",
              "    <tr>\n",
              "      <th>3</th>\n",
              "      <td>NaN</td>\n",
              "    </tr>\n",
              "    <tr>\n",
              "      <th>4</th>\n",
              "      <td>NaN</td>\n",
              "    </tr>\n",
              "    <tr>\n",
              "      <th>...</th>\n",
              "      <td>...</td>\n",
              "    </tr>\n",
              "    <tr>\n",
              "      <th>11928</th>\n",
              "      <td>NaN</td>\n",
              "    </tr>\n",
              "    <tr>\n",
              "      <th>11929</th>\n",
              "      <td>3.0</td>\n",
              "    </tr>\n",
              "    <tr>\n",
              "      <th>11930</th>\n",
              "      <td>1.0</td>\n",
              "    </tr>\n",
              "    <tr>\n",
              "      <th>11931</th>\n",
              "      <td>2.0</td>\n",
              "    </tr>\n",
              "    <tr>\n",
              "      <th>11932</th>\n",
              "      <td>1.0</td>\n",
              "    </tr>\n",
              "  </tbody>\n",
              "</table>\n",
              "<p>11933 rows × 1 columns</p>\n",
              "</div><br><label><b>dtype:</b> float64</label>"
            ]
          },
          "metadata": {},
          "execution_count": 19
        }
      ]
    },
    {
      "cell_type": "code",
      "source": [
        "nhanes_data = demo.merge(bp, on='SEQN', how='left')\\\n",
        "                  .merge(body, on='SEQN', how='left')\\\n",
        "                  .merge(chol_total, on='SEQN', how='left')\\\n",
        "                  .merge(glycohemo, on='SEQN', how='left')\\\n",
        "                  .merge(crp, on='SEQN', how='left')\\\n",
        "                  .merge(dm, on='SEQN', how='left')\\\n",
        "                  .merge(phy, on='SEQN', how='left')\\\n",
        "                  .merge(whd, on='SEQN', how='left')"
      ],
      "metadata": {
        "id": "xaOMczeRoRt-"
      },
      "execution_count": 20,
      "outputs": []
    },
    {
      "cell_type": "code",
      "source": [
        "print(nhanes_data)"
      ],
      "metadata": {
        "colab": {
          "base_uri": "https://localhost:8080/"
        },
        "id": "vDsJDFAPoYUZ",
        "outputId": "f59d7038-dfe2-4d6e-b4bd-acf5a8a15d38"
      },
      "execution_count": 21,
      "outputs": [
        {
          "output_type": "stream",
          "name": "stdout",
          "text": [
            "           SEQN  SDDSRVYR  RIDSTATR  RIAGENDR  RIDAGEYR  RIDAGEMN  RIDRETH1  \\\n",
            "0      130378.0      12.0       2.0       1.0      43.0       NaN       5.0   \n",
            "1      130379.0      12.0       2.0       1.0      66.0       NaN       3.0   \n",
            "2      130380.0      12.0       2.0       2.0      44.0       NaN       2.0   \n",
            "3      130381.0      12.0       2.0       2.0       5.0       NaN       5.0   \n",
            "4      130382.0      12.0       2.0       1.0       2.0       NaN       3.0   \n",
            "...         ...       ...       ...       ...       ...       ...       ...   \n",
            "11928  142306.0      12.0       2.0       1.0       9.0       NaN       2.0   \n",
            "11929  142307.0      12.0       2.0       2.0      49.0       NaN       4.0   \n",
            "11930  142308.0      12.0       2.0       1.0      50.0       NaN       2.0   \n",
            "11931  142309.0      12.0       2.0       1.0      40.0       NaN       2.0   \n",
            "11932  142310.0      12.0       2.0       2.0      80.0       NaN       3.0   \n",
            "\n",
            "       RIDRETH3  RIDEXMON  RIDEXAGM  ...  PAD790U  PAD800       PAD810Q  \\\n",
            "0           6.0       2.0       NaN  ...     b'W'    45.0  3.000000e+00   \n",
            "1           3.0       2.0       NaN  ...     b'W'    45.0  3.000000e+00   \n",
            "2           2.0       1.0       NaN  ...     b'W'    20.0  5.397605e-79   \n",
            "3           7.0       1.0      71.0  ...      NaN     NaN           NaN   \n",
            "4           3.0       2.0      34.0  ...      NaN     NaN           NaN   \n",
            "...         ...       ...       ...  ...      ...     ...           ...   \n",
            "11928       2.0       1.0     111.0  ...      NaN     NaN           NaN   \n",
            "11929       4.0       2.0       NaN  ...     b'W'    15.0  5.397605e-79   \n",
            "11930       2.0       1.0       NaN  ...     b'W'    45.0  5.397605e-79   \n",
            "11931       2.0       1.0       NaN  ...     b'D'    15.0  5.397605e-79   \n",
            "11932       3.0       1.0       NaN  ...      b''     NaN  5.397605e-79   \n",
            "\n",
            "       PAD810U  PAD820  PAD680  WHD010  WHD020  WHD050  WHQ070  \n",
            "0         b'W'    45.0   360.0    71.0   190.0   200.0     1.0  \n",
            "1         b'W'    45.0   480.0    70.0   220.0   220.0     2.0  \n",
            "2          b''     NaN   240.0    60.0   150.0   165.0     1.0  \n",
            "3          NaN     NaN     NaN     NaN     NaN     NaN     NaN  \n",
            "4          NaN     NaN     NaN     NaN     NaN     NaN     NaN  \n",
            "...        ...     ...     ...     ...     ...     ...     ...  \n",
            "11928      NaN     NaN     NaN     NaN     NaN     NaN     NaN  \n",
            "11929      b''     NaN   480.0    61.0   206.0   235.0     1.0  \n",
            "11930      b''     NaN   600.0    69.0   174.0   180.0     1.0  \n",
            "11931      b''     NaN   240.0    69.0   200.0   170.0     2.0  \n",
            "11932      b''     NaN   360.0    64.0   157.0   157.0     1.0  \n",
            "\n",
            "[11933 rows x 86 columns]\n"
          ]
        }
      ]
    },
    {
      "cell_type": "code",
      "source": [
        "nhanes_data['DMDMARTZ'] = nhanes_data['DMDMARTZ'].apply(lambda x: 1 if x == 1 else 0)\n",
        "nhanes_data['DMDEDUC2'] = nhanes_data['DMDEDUC2'].apply(lambda x: 1 if x in [4, 5] else 0)\n",
        "nhanes_data['PAD680'].replace([7777, 9999], np.nan, inplace=True)\n",
        "nhanes_data['WHD020'].replace([7777, 9999], np.nan, inplace=True)"
      ],
      "metadata": {
        "colab": {
          "base_uri": "https://localhost:8080/"
        },
        "id": "pGbJwQ5VoJd2",
        "outputId": "e657f289-9264-40c8-c194-7fa9204a869d"
      },
      "execution_count": 22,
      "outputs": [
        {
          "output_type": "stream",
          "name": "stderr",
          "text": [
            "<ipython-input-22-69fb298a54c5>:3: FutureWarning: A value is trying to be set on a copy of a DataFrame or Series through chained assignment using an inplace method.\n",
            "The behavior will change in pandas 3.0. This inplace method will never work because the intermediate object on which we are setting values always behaves as a copy.\n",
            "\n",
            "For example, when doing 'df[col].method(value, inplace=True)', try using 'df.method({col: value}, inplace=True)' or df[col] = df[col].method(value) instead, to perform the operation inplace on the original object.\n",
            "\n",
            "\n",
            "  nhanes_data['PAD680'].replace([7777, 9999], np.nan, inplace=True)\n",
            "<ipython-input-22-69fb298a54c5>:4: FutureWarning: A value is trying to be set on a copy of a DataFrame or Series through chained assignment using an inplace method.\n",
            "The behavior will change in pandas 3.0. This inplace method will never work because the intermediate object on which we are setting values always behaves as a copy.\n",
            "\n",
            "For example, when doing 'df[col].method(value, inplace=True)', try using 'df.method({col: value}, inplace=True)' or df[col] = df[col].method(value) instead, to perform the operation inplace on the original object.\n",
            "\n",
            "\n",
            "  nhanes_data['WHD020'].replace([7777, 9999], np.nan, inplace=True)\n"
          ]
        }
      ]
    },
    {
      "cell_type": "markdown",
      "source": [
        "Question 1: Is there an association between marital status and education level?"
      ],
      "metadata": {
        "id": "iCmeYTPdpaF1"
      }
    },
    {
      "cell_type": "code",
      "source": [
        "from scipy.stats import chi2_contingency\n",
        "contingency_table = pd.crosstab(nhanes_data['DMDMARTZ'], nhanes_data['DMDEDUC2'])\n",
        "chi2, p, dof, ex = chi2_contingency(contingency_table)\n",
        "print(f\"Chi2 Statistic: {chi2}, p-value: {p}\")\n",
        "\n",
        "### According to the statstic, there is no association between marital status and education level"
      ],
      "metadata": {
        "colab": {
          "base_uri": "https://localhost:8080/"
        },
        "id": "gjwh_zOxon5p",
        "outputId": "0d2d8706-190a-45e3-e079-c7f370c4542f"
      },
      "execution_count": 23,
      "outputs": [
        {
          "output_type": "stream",
          "name": "stdout",
          "text": [
            "Chi2 Statistic: 1677.006341355503, p-value: 0.0\n"
          ]
        }
      ]
    },
    {
      "cell_type": "markdown",
      "source": [
        "Question 2: Is there a difference in the mean sedentary behavior time between those who are married and those who are not married?"
      ],
      "metadata": {
        "id": "VPrWbNfmpYu-"
      }
    },
    {
      "cell_type": "code",
      "source": [
        "from scipy.stats import ttest_ind\n",
        "married = nhanes_data[nhanes_data['DMDMARTZ'] == 1]['PAD680'].dropna()\n",
        "not_married = nhanes_data[nhanes_data['DMDMARTZ'] == 0]['PAD680'].dropna()\n",
        "t_stat, p_val = ttest_ind(married, not_married)\n",
        "print(f\"T-Statistic: {t_stat}, p-value: {p_val}\")\n",
        "\n",
        "### There is a difference in sedentary behavior time between those who are married and those who are not married. Those who are married tend to spend less time being sedentary compared to those who are not married."
      ],
      "metadata": {
        "colab": {
          "base_uri": "https://localhost:8080/"
        },
        "id": "1bPoQrlnpK4f",
        "outputId": "9378468d-d4b9-4261-9bf7-82d40115c3ad"
      },
      "execution_count": 12,
      "outputs": [
        {
          "output_type": "stream",
          "name": "stdout",
          "text": [
            "T-Statistic: -2.7114738497919184, p-value: 0.006712549062413583\n"
          ]
        }
      ]
    },
    {
      "cell_type": "markdown",
      "source": [
        "Question 3: How do age and marital status affect systolic blood pressure?"
      ],
      "metadata": {
        "id": "eti-G_rIp240"
      }
    },
    {
      "cell_type": "code",
      "source": [
        "import statsmodels.api as sm\n",
        "from statsmodels.formula.api import ols\n",
        "model = ols('BPXOSY3 ~ RIDAGEYR + C(DMDMARTZ)', data=nhanes_data).fit()\n",
        "anova_table = sm.stats.anova_lm(model, typ=2)\n",
        "print(anova_table)"
      ],
      "metadata": {
        "colab": {
          "base_uri": "https://localhost:8080/"
        },
        "id": "Xk_oFY7-pzgZ",
        "outputId": "af64a459-9412-494f-8cf2-d8e4d8a9efb0"
      },
      "execution_count": 13,
      "outputs": [
        {
          "output_type": "stream",
          "name": "stdout",
          "text": [
            "                   sum_sq      df            F    PR(>F)\n",
            "C(DMDMARTZ)  1.737748e+03     1.0     6.860916  0.008828\n",
            "RIDAGEYR     5.889160e+05     1.0  2325.138035  0.000000\n",
            "Residual     1.893791e+06  7477.0          NaN       NaN\n"
          ]
        }
      ]
    },
    {
      "cell_type": "markdown",
      "source": [
        "Question 4: Is there a correlation between self-reported weight and minutes of sedentary behavior?"
      ],
      "metadata": {
        "id": "GwtUpLHRqFw2"
      }
    },
    {
      "cell_type": "code",
      "source": [
        "subset_data = nhanes_data[['WHD020', 'PAD680']].dropna()\n",
        "from scipy.stats import pearsonr\n",
        "correlation, p_value = pearsonr(subset_data['WHD020'], subset_data['PAD680'])\n",
        "print(f\"Correlation: {correlation}, p-value: {p_value}\")\n",
        "\n",
        "### There is a small positive correlation between self-reported weight and minutes of sedentary behaviors"
      ],
      "metadata": {
        "colab": {
          "base_uri": "https://localhost:8080/"
        },
        "id": "mFvaUd-YqLCt",
        "outputId": "b031848c-38bd-44ab-81a6-7b74f40cc05e"
      },
      "execution_count": 16,
      "outputs": [
        {
          "output_type": "stream",
          "name": "stdout",
          "text": [
            "Correlation: 0.1046820984735302, p-value: 2.9649694069971987e-21\n"
          ]
        }
      ]
    }
  ]
}